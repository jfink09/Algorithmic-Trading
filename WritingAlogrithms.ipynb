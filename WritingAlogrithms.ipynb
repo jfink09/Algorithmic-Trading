{
  "nbformat": 4,
  "nbformat_minor": 0,
  "metadata": {
    "colab": {
      "provenance": [],
      "authorship_tag": "ABX9TyNLwKdrrbgQi78qkPf2RQt+",
      "include_colab_link": true
    },
    "kernelspec": {
      "name": "python3",
      "display_name": "Python 3"
    },
    "language_info": {
      "name": "python"
    }
  },
  "cells": [
    {
      "cell_type": "markdown",
      "metadata": {
        "id": "view-in-github",
        "colab_type": "text"
      },
      "source": [
        "<a href=\"https://colab.research.google.com/github/jfink09/Algorithmic-Trading/blob/main/WritingAlogrithms.ipynb\" target=\"_parent\"><img src=\"https://colab.research.google.com/assets/colab-badge.svg\" alt=\"Open In Colab\"/></a>"
      ]
    },
    {
      "cell_type": "markdown",
      "source": [
        "# Initialization"
      ],
      "metadata": {
        "id": "0cJK-aLI_EOX"
      }
    },
    {
      "cell_type": "markdown",
      "source": [
        "### Set Dates"
      ],
      "metadata": {
        "id": "Bxm7a_pY_kP4"
      }
    },
    {
      "cell_type": "code",
      "source": [
        "self.SetStartDate(2018,1,1)\n",
        "self.SetEndDate(2023,1,1)\n",
        "\n",
        "# Set the end date to last week\n",
        "self.SetEndDate(datetime.now() - timedelta(7))"
      ],
      "metadata": {
        "id": "2FgFPEF2_3aW"
      },
      "execution_count": null,
      "outputs": []
    },
    {
      "cell_type": "markdown",
      "source": [
        "### Set Account Currency"
      ],
      "metadata": {
        "id": "p62BXwU_AJ0Z"
      }
    },
    {
      "cell_type": "code",
      "source": [
        "# Defaults to USD\n",
        "self.SetAccountCurrency(\"USD\")"
      ],
      "metadata": {
        "id": "RSLs_-25ANQM"
      },
      "execution_count": null,
      "outputs": []
    },
    {
      "cell_type": "markdown",
      "source": [
        "### Set Cash"
      ],
      "metadata": {
        "id": "coNlo6mOAR2v"
      }
    },
    {
      "cell_type": "code",
      "source": [
        "# Live trading defaults to account value\n",
        "self.SetCash(10000)"
      ],
      "metadata": {
        "id": "uv4vK6ZxAUGN"
      },
      "execution_count": null,
      "outputs": []
    },
    {
      "cell_type": "code",
      "source": [
        "### Set Brokerage and Cash Model\n",
        "self.SetBrokerageModel(BrokerageName.TDAmeritrade,AccountType.Margin)"
      ],
      "metadata": {
        "id": "gAmYmOB6Alcc"
      },
      "execution_count": null,
      "outputs": []
    },
    {
      "cell_type": "markdown",
      "source": [
        "### Universe Settings"
      ],
      "metadata": {
        "id": "acAe5nwFBdPM"
      }
    },
    {
      "cell_type": "code",
      "source": [
        "self.UniverseSettings.Resolution = Resoultion.Minute\n",
        "self.AddUniverse(self.CoarseFilterFunction)"
      ],
      "metadata": {
        "id": "q7yJJuVDCW0m"
      },
      "execution_count": null,
      "outputs": []
    },
    {
      "cell_type": "markdown",
      "source": [
        "### Set Security Initializer"
      ],
      "metadata": {
        "id": "QacVFHLmDg9D"
      }
    },
    {
      "cell_type": "code",
      "source": [
        "# In initialize\n",
        "self.SetSecurityInitializer(self.CustomSecurityInitializer)\n",
        "\n",
        "def CustomSecurityInitializer(self, security: Security) -> None:\n",
        "  # Disable trading fees\n",
        "  security.SetFeeModel(ConstantFeeModel(0,\"USD\"))\n",
        "\n",
        "self.SetSecurityInitializer(lambda security: security.SetFeeModel(ConstantFeeModel(0,\"USD\")))"
      ],
      "metadata": {
        "id": "ys9fsHhGDkFQ"
      },
      "execution_count": null,
      "outputs": []
    },
    {
      "cell_type": "code",
      "source": [
        "# Use a security initializer to set the market price of each security to the last known price\n",
        "seeder = FuncSecuritySeeder(self.GetLastKnownPrices)\n",
        "self.SetSecurityInitializer(lambda security: seeder.SeedSecurity(security))"
      ],
      "metadata": {
        "id": "U3pYWuIIEOtx"
      },
      "execution_count": null,
      "outputs": []
    },
    {
      "cell_type": "code",
      "source": [
        "# In initialize\n",
        "self.SetSecurityInitializer(MySecurityInitializer(self.BrokerageModel, FuncSecuritySeeder(self.GetLastKnownPrices)))\n",
        "\n",
        "# Outside of the algorithm class\n",
        "class MySecurityInitializer(BrokerageModelSecurityInitializer):\n",
        "  def __init__(self,brokerage_model: TDAmeritrade, security_seeder: ISecuritySeeder) -> None:\n",
        "    super().__init__(brokerage_model, security_seeder)\n",
        "  def Initialize(self, security: Security) -> None:\n",
        "    # First call the superclass definition\n",
        "    # This method sets the reality models of each security using the default reality models of the brokerage model\n",
        "    super().Initialize(security)\n",
        "\n",
        "    # Next, overwrite some of the reality models\n",
        "    security.SetFeeModel(ConstantFeeModel(0,\"USD\"))"
      ],
      "metadata": {
        "id": "zDjrazcsFShV"
      },
      "execution_count": null,
      "outputs": []
    },
    {
      "cell_type": "markdown",
      "source": [
        "### Add Data"
      ],
      "metadata": {
        "id": "XrDeKNOMGApH"
      }
    },
    {
      "cell_type": "code",
      "source": [
        "# Adds minut bars by default\n",
        "self.AddEquity(\"SPY\")\n",
        "\n",
        "# Use second bars instead\n",
        "self.AddEquity(\"SPY\", Resolution.Second)"
      ],
      "metadata": {
        "id": "55WgXtzUGmzQ"
      },
      "execution_count": null,
      "outputs": []
    },
    {
      "cell_type": "code",
      "source": [
        "# Set Indicators and Consolidators\n",
        "self.symbol = self.AddEquity(\"SPY\").Symbol\n",
        "self.sma = self.SMA(self.symbol, 21)\n",
        "self.WarmUpIndicator(self.symbol, self.sma)"
      ],
      "metadata": {
        "id": "Mf6LDrWeH048"
      },
      "execution_count": null,
      "outputs": []
    },
    {
      "cell_type": "markdown",
      "source": [
        "### Set Algorithm Settings"
      ],
      "metadata": {
        "id": "dF7sxcuPInx5"
      }
    },
    {
      "cell_type": "code",
      "source": [
        "self.Settings.RebalancePortfolioOnSecurityChanges = False"
      ],
      "metadata": {
        "id": "y-vFT2b3IqLI"
      },
      "execution_count": null,
      "outputs": []
    },
    {
      "cell_type": "markdown",
      "source": [
        "### Set The Time Zone"
      ],
      "metadata": {
        "id": "jbCBm0ExI4at"
      }
    },
    {
      "cell_type": "code",
      "source": [
        "self.SetTimeZone(\"NewYork\")\n",
        "self.SetTimeZone(TimeZones.NewYork)"
      ],
      "metadata": {
        "id": "DDgMfNrUI61r"
      },
      "execution_count": null,
      "outputs": []
    },
    {
      "cell_type": "markdown",
      "source": [
        "### Set Warmup Period"
      ],
      "metadata": {
        "id": "2mOuIe2aJW9K"
      }
    },
    {
      "cell_type": "code",
      "source": [
        "self.SetWarmUp(timedelta(7))\n",
        "\n",
        "# Feed in 100 trading days worth of data before the start date\n",
        "self.SetWarmUp(100, Resolution.Daily)\n",
        "\n",
        "# If you do not provide the Resolution argument, it uses the lowest resoultion in the subscriptions\n",
        "self.SetWarmUp(100)"
      ],
      "metadata": {
        "id": "cIEywxdOJYwX"
      },
      "execution_count": null,
      "outputs": []
    },
    {
      "cell_type": "markdown",
      "source": [
        "### Post Initalizations"
      ],
      "metadata": {
        "id": "7x0dxTIsJyJm"
      }
    },
    {
      "cell_type": "code",
      "source": [
        "def OnWarmUpFinished(self) -> None:\n",
        "  self.Log(\"Algorithm Ready\")"
      ],
      "metadata": {
        "id": "JXB-DbNqJ0p0"
      },
      "execution_count": null,
      "outputs": []
    }
  ]
}